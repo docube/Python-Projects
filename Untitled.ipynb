{
 "cells": [
  {
   "cell_type": "code",
   "execution_count": 1,
   "id": "0d31917b-db3a-4238-b708-86a6a45ae0cd",
   "metadata": {},
   "outputs": [
    {
     "name": "stdout",
     "output_type": "stream",
     "text": [
      "Writing myfile.txt\n"
     ]
    }
   ],
   "source": [
    "%%writefile myfile.txt\n",
    "Hello this is a text file\n",
    "This is the second line\n",
    "This is the third line"
   ]
  },
  {
   "cell_type": "code",
   "execution_count": 3,
   "id": "84082af5-8175-48d2-a639-f422ffd568cc",
   "metadata": {},
   "outputs": [],
   "source": [
    "myfile = open('myfile.txt')"
   ]
  },
  {
   "cell_type": "code",
   "execution_count": null,
   "id": "8323bbfc-0f36-498d-ba56-8a1f0a07b152",
   "metadata": {},
   "outputs": [],
   "source": [
    "myfile.read"
   ]
  }
 ],
 "metadata": {
  "kernelspec": {
   "display_name": "Python 3 (ipykernel)",
   "language": "python",
   "name": "python3"
  },
  "language_info": {
   "codemirror_mode": {
    "name": "ipython",
    "version": 3
   },
   "file_extension": ".py",
   "mimetype": "text/x-python",
   "name": "python",
   "nbconvert_exporter": "python",
   "pygments_lexer": "ipython3",
   "version": "3.11.7"
  }
 },
 "nbformat": 4,
 "nbformat_minor": 5
}
